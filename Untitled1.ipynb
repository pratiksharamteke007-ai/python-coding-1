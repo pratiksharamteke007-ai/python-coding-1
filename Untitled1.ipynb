{
  "nbformat": 4,
  "nbformat_minor": 0,
  "metadata": {
    "colab": {
      "provenance": []
    },
    "kernelspec": {
      "name": "python3",
      "display_name": "Python 3"
    },
    "language_info": {
      "name": "python"
    }
  },
  "cells": [
    {
      "cell_type": "code",
      "execution_count": 1,
      "metadata": {
        "colab": {
          "base_uri": "https://localhost:8080/"
        },
        "id": "d22ZGm_aGVOR",
        "outputId": "cd35a0d8-92de-4224-eaeb-c126f8899d00"
      },
      "outputs": [
        {
          "output_type": "stream",
          "name": "stdout",
          "text": [
            "d\n",
            "r\n",
            "e\n",
            "a\n",
            "m\n",
            " \n",
            "w\n",
            "i\n",
            "t\n",
            "h\n",
            " \n",
            "d\n",
            "a\n",
            "t\n",
            "a\n"
          ]
        }
      ],
      "source": [
        "string =\"dream with data\"\n",
        "for char in string:\n",
        "  print(char)"
      ]
    },
    {
      "cell_type": "code",
      "source": [
        "strin =\"dream with data\"\n",
        "for index, char in enumerate(string):\n",
        "  print(index, char)"
      ],
      "metadata": {
        "colab": {
          "base_uri": "https://localhost:8080/"
        },
        "id": "n7lHyTMoHhVH",
        "outputId": "c4421d86-3533-4d3b-be4f-a16c77e0c7c4"
      },
      "execution_count": 2,
      "outputs": [
        {
          "output_type": "stream",
          "name": "stdout",
          "text": [
            "0 d\n",
            "1 r\n",
            "2 e\n",
            "3 a\n",
            "4 m\n",
            "5  \n",
            "6 w\n",
            "7 i\n",
            "8 t\n",
            "9 h\n",
            "10  \n",
            "11 d\n",
            "12 a\n",
            "13 t\n",
            "14 a\n"
          ]
        }
      ]
    },
    {
      "cell_type": "code",
      "source": [
        "Data = [[1, 2], [3, 4], [5, 6]]\n",
        "for sublist in Data:\n",
        "  for item in sublist:\n",
        "    print(item)"
      ],
      "metadata": {
        "colab": {
          "base_uri": "https://localhost:8080/"
        },
        "id": "ZaMwKSvrIqcz",
        "outputId": "9bafe169-b34a-4f6d-862d-49c9131b4cf3"
      },
      "execution_count": 3,
      "outputs": [
        {
          "output_type": "stream",
          "name": "stdout",
          "text": [
            "1\n",
            "2\n",
            "3\n",
            "4\n",
            "5\n",
            "6\n"
          ]
        }
      ]
    },
    {
      "cell_type": "code",
      "source": [],
      "metadata": {
        "id": "41n7X8iML8p_"
      },
      "execution_count": null,
      "outputs": []
    }
  ]
}